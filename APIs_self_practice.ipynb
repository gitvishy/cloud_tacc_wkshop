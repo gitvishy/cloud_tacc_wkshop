{
 "cells": [
  {
   "cell_type": "markdown",
   "metadata": {},
   "source": [
    "# Introduction to Application Programming Interfaces (APIs)\n",
    "Day 2 work, practice from [TACC cloud computing class](https://tacc.github.io/CSC2017Institute/docs/day2/APIs_intro.html)"
   ]
  },
  {
   "cell_type": "markdown",
   "metadata": {},
   "source": [
    "This makes use of the **`requests`** module which is well explained in the [source docs, http://docs.python-requests.org/en/master/user/quickstart/](http://docs.python-requests.org/en/master/user/quickstart/)"
   ]
  },
  {
   "cell_type": "code",
   "execution_count": 1,
   "metadata": {
    "collapsed": true
   },
   "outputs": [],
   "source": [
    "import requests\n",
    "import json"
   ]
  },
  {
   "cell_type": "code",
   "execution_count": 2,
   "metadata": {
    "collapsed": true
   },
   "outputs": [],
   "source": [
    "response = requests.get('https://api.github.com/gists/public')"
   ]
  },
  {
   "cell_type": "code",
   "execution_count": 3,
   "metadata": {},
   "outputs": [
    {
     "data": {
      "text/plain": [
       "200"
      ]
     },
     "execution_count": 3,
     "metadata": {},
     "output_type": "execute_result"
    }
   ],
   "source": [
    "response.status_code"
   ]
  },
  {
   "cell_type": "code",
   "execution_count": 4,
   "metadata": {},
   "outputs": [
    {
     "name": "stdout",
     "output_type": "stream",
     "text": [
      "url:\thttps://api.github.com/gists/af69dd3b0d8864800bf04276d17ee159\n",
      "forks_url:\thttps://api.github.com/gists/af69dd3b0d8864800bf04276d17ee159/forks\n",
      "commits_url:\thttps://api.github.com/gists/af69dd3b0d8864800bf04276d17ee159/commits\n",
      "id:\taf69dd3b0d8864800bf04276d17ee159\n",
      "git_pull_url:\thttps://gist.github.com/af69dd3b0d8864800bf04276d17ee159.git\n",
      "git_push_url:\thttps://gist.github.com/af69dd3b0d8864800bf04276d17ee159.git\n",
      "html_url:\thttps://gist.github.com/af69dd3b0d8864800bf04276d17ee159\n",
      "files:\t{'Empire at war strategy guide.md': {'filename': 'Empire at war strategy guide.md', 'type': 'text/plain', 'language': 'Markdown', 'raw_url': 'https://gist.githubusercontent.com/anonymous/af69dd3b0d8864800bf04276d17ee159/raw/aa3e98cf8be9ed124c69a6a5ae027f17904a8d86/Empire%20at%20war%20strategy%20guide.md', 'size': 2566}}\n",
      "public:\tTrue\n",
      "created_at:\t2017-07-25T13:47:51Z\n",
      "updated_at:\t2017-07-25T13:47:51Z\n",
      "description:\tEmpire at war strategy guide\n",
      "comments:\t0\n",
      "user:\tNone\n",
      "comments_url:\thttps://api.github.com/gists/af69dd3b0d8864800bf04276d17ee159/comments\n",
      "truncated:\tFalse\n"
     ]
    }
   ],
   "source": [
    "resp_json = response.json()\n",
    "# resp_json[2]\n",
    "for i in resp_json[2]:\n",
    "    print('{}:\\t{}'.format(i, resp_json[2][i]))"
   ]
  },
  {
   "cell_type": "code",
   "execution_count": 5,
   "metadata": {},
   "outputs": [
    {
     "name": "stdout",
     "output_type": "stream",
     "text": [
      "<class 'list'> 30\n"
     ]
    }
   ],
   "source": [
    "print(type(resp_json), len(resp_json))"
   ]
  },
  {
   "cell_type": "markdown",
   "metadata": {},
   "source": [
    "Retrieve a list of github users"
   ]
  },
  {
   "cell_type": "code",
   "execution_count": 6,
   "metadata": {
    "collapsed": true
   },
   "outputs": [],
   "source": [
    "response = requests.get('https://api.github.com/repos/git/git/contributors')"
   ]
  },
  {
   "cell_type": "code",
   "execution_count": 7,
   "metadata": {
    "collapsed": true
   },
   "outputs": [],
   "source": [
    "response_json = response.json()"
   ]
  },
  {
   "cell_type": "code",
   "execution_count": 8,
   "metadata": {},
   "outputs": [
    {
     "data": {
      "text/plain": [
       "30"
      ]
     },
     "execution_count": 8,
     "metadata": {},
     "output_type": "execute_result"
    }
   ],
   "source": [
    "len(response_json)"
   ]
  },
  {
   "cell_type": "code",
   "execution_count": 9,
   "metadata": {},
   "outputs": [
    {
     "data": {
      "text/plain": [
       "{'avatar_url': 'https://avatars1.githubusercontent.com/u/54884?v=4',\n",
       " 'contributions': 18241,\n",
       " 'events_url': 'https://api.github.com/users/gitster/events{/privacy}',\n",
       " 'followers_url': 'https://api.github.com/users/gitster/followers',\n",
       " 'following_url': 'https://api.github.com/users/gitster/following{/other_user}',\n",
       " 'gists_url': 'https://api.github.com/users/gitster/gists{/gist_id}',\n",
       " 'gravatar_id': '',\n",
       " 'html_url': 'https://github.com/gitster',\n",
       " 'id': 54884,\n",
       " 'login': 'gitster',\n",
       " 'organizations_url': 'https://api.github.com/users/gitster/orgs',\n",
       " 'received_events_url': 'https://api.github.com/users/gitster/received_events',\n",
       " 'repos_url': 'https://api.github.com/users/gitster/repos',\n",
       " 'site_admin': False,\n",
       " 'starred_url': 'https://api.github.com/users/gitster/starred{/owner}{/repo}',\n",
       " 'subscriptions_url': 'https://api.github.com/users/gitster/subscriptions',\n",
       " 'type': 'User',\n",
       " 'url': 'https://api.github.com/users/gitster'}"
      ]
     },
     "execution_count": 9,
     "metadata": {},
     "output_type": "execute_result"
    }
   ],
   "source": [
    "response_json[0]"
   ]
  },
  {
   "cell_type": "code",
   "execution_count": 10,
   "metadata": {},
   "outputs": [
    {
     "name": "stdout",
     "output_type": "stream",
     "text": [
      "gitster\n",
      "peff\n",
      "spearce\n",
      "torvalds\n",
      "dscho\n",
      "pclouds\n",
      "mhagger\n",
      "jrn\n",
      "rscharfe\n",
      "jnareb\n",
      "chriscool\n",
      "j6t\n",
      "felipec\n",
      "avar\n",
      "npitre\n",
      "paulusmack\n",
      "trast\n",
      "stefanbeller\n",
      "jiangxin\n",
      "drafnel\n",
      "moy\n",
      "mjg\n",
      "tronical\n",
      "szeder\n",
      "pasky\n",
      "bk2204\n",
      "raalkml\n",
      "artagnon\n",
      "devzero2000\n",
      "bmwill\n"
     ]
    }
   ],
   "source": [
    "gitusers = []\n",
    "for i in range(len(response_json)):\n",
    "    print(response_json[i]['login'])\n",
    "    gitusers.append(response_json[i]['login'])"
   ]
  },
  {
   "cell_type": "markdown",
   "metadata": {},
   "source": [
    "Retrieve details about a particular user"
   ]
  },
  {
   "cell_type": "code",
   "execution_count": 11,
   "metadata": {
    "collapsed": true
   },
   "outputs": [],
   "source": [
    "user_info = {}\n",
    "for i in gitusers:\n",
    "    user_info[i] = requests.get('https://api.github.com/users/{}'.format(i))"
   ]
  },
  {
   "cell_type": "code",
   "execution_count": 12,
   "metadata": {},
   "outputs": [
    {
     "name": "stdout",
     "output_type": "stream",
     "text": [
      "gitster:  Junio C Hamano has 1247 followers\n",
      "peff:  Jeff King has 316 followers\n",
      "spearce:  Shawn O. Pearce has 121 followers\n",
      "torvalds:  Linus Torvalds has 57725 followers\n",
      "dscho:  Johannes Schindelin has 190 followers\n",
      "pclouds:  Duy Nguyen has 71 followers\n",
      "mhagger:  Michael Haggerty has 193 followers\n",
      "jrn:  None has 5 followers\n",
      "rscharfe:  None has 0 followers\n",
      "jnareb:  Jakub Narębski has 34 followers\n",
      "chriscool:  Christian Couder has 35 followers\n",
      "j6t:  Johannes Sixt has 3 followers\n",
      "felipec:  Felipe Contreras has 137 followers\n",
      "avar:  Ævar Arnfjörð Bjarmason has 181 followers\n",
      "npitre:  None has 5 followers\n",
      "paulusmack:  Paul Mackerras has 13 followers\n",
      "trast:  None has 10 followers\n",
      "stefanbeller:  Stefan Beller has 31 followers\n",
      "jiangxin:  Jiang Xin has 646 followers\n",
      "drafnel:  Brandon Casey has 4 followers\n",
      "moy:  Matthieu Moy has 42 followers\n",
      "mjg:  Michael J Gruber has 4 followers\n",
      "tronical:  Simon Hausmann has 13 followers\n",
      "szeder:  Gábor Szeder has 5 followers\n",
      "pasky:  Petr Baudis has 151 followers\n",
      "bk2204:  brian m. carlson has 24 followers\n",
      "raalkml:  Alex Riesen has 2 followers\n",
      "artagnon:  Ramkumar Ramachandra has 216 followers\n",
      "devzero2000:  Elia Pinto has 7 followers\n",
      "bmwill:  Brandon Williams has 7 followers\n"
     ]
    }
   ],
   "source": [
    "for i in gitusers:\n",
    "    print('{}:  {} has {} followers'.format(i, user_info[i].json()['name'], user_info[i].json()['followers']))"
   ]
  },
  {
   "cell_type": "markdown",
   "metadata": {},
   "source": [
    "Get the list of followers for a particular user"
   ]
  },
  {
   "cell_type": "code",
   "execution_count": 13,
   "metadata": {
    "collapsed": true
   },
   "outputs": [],
   "source": [
    "particular_user = 'bmwill'\n",
    "followers = requests.get('https://api.github.com/users/{}/followers'.format(particular_user))"
   ]
  },
  {
   "cell_type": "code",
   "execution_count": 14,
   "metadata": {
    "collapsed": true
   },
   "outputs": [],
   "source": [
    "follower_info = {}\n",
    "for i in range(len(followers.json())):\n",
    "    follower = followers.json()[i]['login']\n",
    "    follower_info[follower] = requests.get('https://api.github.com/users/{}'.format(follower))"
   ]
  },
  {
   "cell_type": "code",
   "execution_count": 15,
   "metadata": {},
   "outputs": [
    {
     "name": "stdout",
     "output_type": "stream",
     "text": [
      "bmwill is followed by:\n",
      "Avery Duffin\n",
      "Kamaron Peterson\n",
      "Arvind\n",
      "Tj\n",
      "Jk Jensen\n",
      "Raymond Jacobson\n",
      "Alex Wilson\n"
     ]
    }
   ],
   "source": [
    "print('{} is followed by:'.format(particular_user))\n",
    "for i in follower_info:\n",
    "    print(follower_info[i].json()['name'])"
   ]
  }
 ],
 "metadata": {
  "kernelspec": {
   "display_name": "Python 3",
   "language": "python",
   "name": "python3"
  },
  "language_info": {
   "codemirror_mode": {
    "name": "ipython",
    "version": 3
   },
   "file_extension": ".py",
   "mimetype": "text/x-python",
   "name": "python",
   "nbconvert_exporter": "python",
   "pygments_lexer": "ipython3",
   "version": "3.6.1"
  }
 },
 "nbformat": 4,
 "nbformat_minor": 2
}
